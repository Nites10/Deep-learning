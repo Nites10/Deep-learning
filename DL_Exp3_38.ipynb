{
  "nbformat": 4,
  "nbformat_minor": 0,
  "metadata": {
    "colab": {
      "provenance": []
    },
    "kernelspec": {
      "name": "python3",
      "display_name": "Python 3"
    },
    "language_info": {
      "name": "python"
    }
  },
  "cells": [
    {
      "cell_type": "code",
      "execution_count": 17,
      "metadata": {
        "colab": {
          "base_uri": "https://localhost:8080/"
        },
        "id": "0t8EI1LW-3Q3",
        "outputId": "f16e0cbb-051f-4c52-c8f6-34534d9e79fe"
      },
      "outputs": [
        {
          "output_type": "stream",
          "name": "stdout",
          "text": [
            "Optimal solution using Nesterov Gradient Descent: 0.9999999999999734\n"
          ]
        }
      ],
      "source": [
        "import numpy as np\n",
        "\n",
        "\n",
        "def gradient_function(x):\n",
        "    return 4 * x - 4\n",
        "\n",
        "\n",
        "def nesterov_gradient_descent(gradient_func, initial_position, learning_rate=0.1, num_iterations=100):\n",
        "    position = initial_position\n",
        "    momentum = 0\n",
        "    beta = 0.9\n",
        "\n",
        "    for _ in range(num_iterations):\n",
        "\n",
        "        lookahead_position = position + beta * momentum\n",
        "        grad = gradient_func(lookahead_position)\n",
        "\n",
        "\n",
        "        momentum = beta * momentum - learning_rate * grad\n",
        "        position += momentum\n",
        "\n",
        "    return position\n",
        "\n",
        "\n",
        "initial_position = 0\n",
        "\n",
        "\n",
        "final_position_nesterov = nesterov_gradient_descent(gradient_function, initial_position)\n",
        "\n",
        "\n",
        "print(\"Optimal solution using Nesterov Gradient Descent:\", final_position_nesterov)\n",
        "\n",
        ""
      ]
    },
    {
      "cell_type": "code",
      "source": [],
      "metadata": {
        "id": "riTtspdnCaDa"
      },
      "execution_count": null,
      "outputs": []
    }
  ]
}